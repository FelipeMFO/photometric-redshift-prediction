{
 "cells": [
  {
   "cell_type": "markdown",
   "metadata": {},
   "source": [
    "## This notebook chooses AutoML best model and based on its predictions on validation set, it calculates a SIGMA MAD validation metric."
   ]
  },
  {
   "cell_type": "code",
   "execution_count": 25,
   "metadata": {},
   "outputs": [
    {
     "name": "stdout",
     "output_type": "stream",
     "text": [
      "The autoreload extension is already loaded. To reload it, use:\n",
      "  %reload_ext autoreload\n"
     ]
    }
   ],
   "source": [
    "%load_ext autoreload\n",
    "%autoreload 2\n",
    "import os \n",
    "import sys\n",
    "import time\n",
    "import h2o\n",
    "\n",
    "import pandas as pd\n",
    "import numpy as np\n",
    "from h2o.automl import H2OAutoML"
   ]
  },
  {
   "cell_type": "code",
   "execution_count": 43,
   "metadata": {},
   "outputs": [],
   "source": [
    "module_path = os.path.abspath(os.path.join('..','..'))\n",
    "if module_path not in sys.path:\n",
    "    sys.path.append(module_path)\n",
    "\n",
    "from src.modeling.functions_autoML import gen_predictions\n",
    "from src.modeling.evaluation import get_metrics_from_batchs"
   ]
  },
  {
   "cell_type": "code",
   "execution_count": 3,
   "metadata": {},
   "outputs": [],
   "source": [
    "pd.set_option(\"display.max_rows\", 6)"
   ]
  },
  {
   "cell_type": "code",
   "execution_count": 4,
   "metadata": {},
   "outputs": [],
   "source": [
    "df = pd.read_pickle(\"../../data/structured/df.pkl\")\n",
    "#IA Filter\n",
    "df = df.loc[df.type_bool == True]"
   ]
  },
  {
   "cell_type": "markdown",
   "metadata": {},
   "source": [
    "#### Getting h2o best result and making a prediction to list"
   ]
  },
  {
   "cell_type": "code",
   "execution_count": 8,
   "metadata": {},
   "outputs": [
    {
     "name": "stdout",
     "output_type": "stream",
     "text": [
      "Checking whether there is an H2O instance running at http://localhost:54323 . connected.\n"
     ]
    },
    {
     "data": {
      "text/html": [
       "<div style=\"overflow:auto\"><table style=\"width:50%\"><tr><td>H2O_cluster_uptime:</td>\n",
       "<td>1 min 11 secs</td></tr>\n",
       "<tr><td>H2O_cluster_timezone:</td>\n",
       "<td>America/Sao_Paulo</td></tr>\n",
       "<tr><td>H2O_data_parsing_timezone:</td>\n",
       "<td>UTC</td></tr>\n",
       "<tr><td>H2O_cluster_version:</td>\n",
       "<td>3.32.1.2</td></tr>\n",
       "<tr><td>H2O_cluster_version_age:</td>\n",
       "<td>17 days </td></tr>\n",
       "<tr><td>H2O_cluster_name:</td>\n",
       "<td>H2O_from_python_felipe_1jtpxa</td></tr>\n",
       "<tr><td>H2O_cluster_total_nodes:</td>\n",
       "<td>1</td></tr>\n",
       "<tr><td>H2O_cluster_free_memory:</td>\n",
       "<td>3.717 Gb</td></tr>\n",
       "<tr><td>H2O_cluster_total_cores:</td>\n",
       "<td>12</td></tr>\n",
       "<tr><td>H2O_cluster_allowed_cores:</td>\n",
       "<td>12</td></tr>\n",
       "<tr><td>H2O_cluster_status:</td>\n",
       "<td>locked, healthy</td></tr>\n",
       "<tr><td>H2O_connection_url:</td>\n",
       "<td>http://localhost:54323</td></tr>\n",
       "<tr><td>H2O_connection_proxy:</td>\n",
       "<td>{\"http\": null, \"https\": null}</td></tr>\n",
       "<tr><td>H2O_internal_security:</td>\n",
       "<td>False</td></tr>\n",
       "<tr><td>H2O_API_Extensions:</td>\n",
       "<td>Amazon S3, XGBoost, Algos, AutoML, Core V3, TargetEncoder, Core V4</td></tr>\n",
       "<tr><td>Python_version:</td>\n",
       "<td>3.8.5 final</td></tr></table></div>"
      ],
      "text/plain": [
       "--------------------------  ------------------------------------------------------------------\n",
       "H2O_cluster_uptime:         1 min 11 secs\n",
       "H2O_cluster_timezone:       America/Sao_Paulo\n",
       "H2O_data_parsing_timezone:  UTC\n",
       "H2O_cluster_version:        3.32.1.2\n",
       "H2O_cluster_version_age:    17 days\n",
       "H2O_cluster_name:           H2O_from_python_felipe_1jtpxa\n",
       "H2O_cluster_total_nodes:    1\n",
       "H2O_cluster_free_memory:    3.717 Gb\n",
       "H2O_cluster_total_cores:    12\n",
       "H2O_cluster_allowed_cores:  12\n",
       "H2O_cluster_status:         locked, healthy\n",
       "H2O_connection_url:         http://localhost:54323\n",
       "H2O_connection_proxy:       {\"http\": null, \"https\": null}\n",
       "H2O_internal_security:      False\n",
       "H2O_API_Extensions:         Amazon S3, XGBoost, Algos, AutoML, Core V3, TargetEncoder, Core V4\n",
       "Python_version:             3.8.5 final\n",
       "--------------------------  ------------------------------------------------------------------"
      ]
     },
     "metadata": {},
     "output_type": "display_data"
    },
    {
     "name": "stdout",
     "output_type": "stream",
     "text": [
      "generic Model Build progress: |███████████████████████████████████████████| 100%\n",
      "Model Details\n",
      "=============\n",
      "H2OGenericEstimator :  Import MOJO Model\n",
      "Model Key:  Generic_model_python_1621206572488_4\n",
      "\n",
      "No model summary for this model\n",
      "\n",
      "ModelMetricsRegressionGeneric: generic\n",
      "** Reported on train data. **\n",
      "\n",
      "MSE: 0.0029843621318644473\n",
      "RMSE: 0.0546293156818246\n",
      "MAE: 0.04095889497837518\n",
      "RMSLE: 0.030993632001274172\n",
      "Mean Residual Deviance: 0.0029843621318644473\n",
      "\n",
      "ModelMetricsRegressionGeneric: generic\n",
      "** Reported on cross-validation data. **\n",
      "\n",
      "MSE: 0.007612769296751577\n",
      "RMSE: 0.0872511850736228\n",
      "MAE: 0.06616340247814928\n",
      "RMSLE: 0.05020608420962501\n",
      "Mean Residual Deviance: 0.007612769296751577\n",
      "\n"
     ]
    }
   ],
   "source": [
    "h2o.init(ip=\"localhost\", port=54323)\n",
    "best_model = h2o.import_mojo('../../models/mojo_50_ensemble/StackedEnsemble_AllModels_AutoML_20201223_115349.zip')"
   ]
  },
  {
   "cell_type": "markdown",
   "metadata": {},
   "source": [
    "## Predicting values based on data used to validation"
   ]
  },
  {
   "cell_type": "code",
   "execution_count": 9,
   "metadata": {},
   "outputs": [
    {
     "name": "stdout",
     "output_type": "stream",
     "text": [
      "Parse progress: |█████████████████████████████████████████████████████████| 100%\n",
      "Parse progress: |█████████████████████████████████████████████████████████| 100%\n",
      "generic prediction progress: |████████████████████████████████████████████| 100%\n",
      "\n",
      " 2550 train/test objects  \n",
      " and 2528 validation objects\n"
     ]
    }
   ],
   "source": [
    "preds, len_train, len_validation = gen_predictions(df, best_model)"
   ]
  },
  {
   "cell_type": "markdown",
   "metadata": {},
   "source": [
    "## Creates new column on df. It will be used for SIGMA MAD calculus."
   ]
  },
  {
   "cell_type": "code",
   "execution_count": 10,
   "metadata": {},
   "outputs": [
    {
     "name": "stderr",
     "output_type": "stream",
     "text": [
      "<ipython-input-10-05c68bdc24f9>:2: SettingWithCopyWarning: \n",
      "A value is trying to be set on a copy of a slice from a DataFrame.\n",
      "Try using .loc[row_indexer,col_indexer] = value instead\n",
      "\n",
      "See the caveats in the documentation: https://pandas.pydata.org/pandas-docs/stable/user_guide/indexing.html#returning-a-view-versus-a-copy\n",
      "  df_sigma_mad['zphot'] = preds.as_data_frame()['predict'].tolist()\n"
     ]
    },
    {
     "data": {
      "text/html": [
       "<div>\n",
       "<style scoped>\n",
       "    .dataframe tbody tr th:only-of-type {\n",
       "        vertical-align: middle;\n",
       "    }\n",
       "\n",
       "    .dataframe tbody tr th {\n",
       "        vertical-align: top;\n",
       "    }\n",
       "\n",
       "    .dataframe thead th {\n",
       "        text-align: right;\n",
       "    }\n",
       "</style>\n",
       "<table border=\"1\" class=\"dataframe\">\n",
       "  <thead>\n",
       "    <tr style=\"text-align: right;\">\n",
       "      <th></th>\n",
       "      <th>desg</th>\n",
       "      <th>desi</th>\n",
       "      <th>desr</th>\n",
       "      <th>desz</th>\n",
       "      <th>Xaxis</th>\n",
       "      <th>desg_GP</th>\n",
       "      <th>desi_GP</th>\n",
       "      <th>desr_GP</th>\n",
       "      <th>desz_GP</th>\n",
       "      <th>wavelets</th>\n",
       "      <th>...</th>\n",
       "      <th>f15</th>\n",
       "      <th>f16</th>\n",
       "      <th>f17</th>\n",
       "      <th>f18</th>\n",
       "      <th>f19</th>\n",
       "      <th>f20</th>\n",
       "      <th>type</th>\n",
       "      <th>type_bool</th>\n",
       "      <th>REDSHIFT_SPEC</th>\n",
       "      <th>zphot</th>\n",
       "    </tr>\n",
       "    <tr>\n",
       "      <th>ID</th>\n",
       "      <th></th>\n",
       "      <th></th>\n",
       "      <th></th>\n",
       "      <th></th>\n",
       "      <th></th>\n",
       "      <th></th>\n",
       "      <th></th>\n",
       "      <th></th>\n",
       "      <th></th>\n",
       "      <th></th>\n",
       "      <th></th>\n",
       "      <th></th>\n",
       "      <th></th>\n",
       "      <th></th>\n",
       "      <th></th>\n",
       "      <th></th>\n",
       "      <th></th>\n",
       "      <th></th>\n",
       "      <th></th>\n",
       "      <th></th>\n",
       "      <th></th>\n",
       "    </tr>\n",
       "  </thead>\n",
       "  <tbody>\n",
       "    <tr>\n",
       "      <th>SN510924</th>\n",
       "      <td>[[8.031000000002678, 5.216, 6.285], [28.879000...</td>\n",
       "      <td>[[13.93699999999808, 2.199, 7.08], [44.8870000...</td>\n",
       "      <td>[[0.0, 2.088, 2.24], [13.042999999997846, 1.82...</td>\n",
       "      <td>[[13.953000000001339, 1.99, 5.422], [36.940999...</td>\n",
       "      <td>[0.0, 0.7661717171717413, 1.5323434343434825, ...</td>\n",
       "      <td>([8.031000000002678, 8.70594949495217, 9.38089...</td>\n",
       "      <td>([13.93699999999808, 14.552414141412289, 15.16...</td>\n",
       "      <td>([0.0, 0.7561111111111435, 1.512222222222287, ...</td>\n",
       "      <td>([13.953000000001339, 14.578232323233673, 15.2...</td>\n",
       "      <td>[10.589545779483814, 8.708973184516886, 7.2444...</td>\n",
       "      <td>...</td>\n",
       "      <td>-39.555982</td>\n",
       "      <td>-16.293731</td>\n",
       "      <td>47.963569</td>\n",
       "      <td>-45.448702</td>\n",
       "      <td>-27.989244</td>\n",
       "      <td>-6.281132</td>\n",
       "      <td>Ia</td>\n",
       "      <td>True</td>\n",
       "      <td>0.85640</td>\n",
       "      <td>0.836854</td>\n",
       "    </tr>\n",
       "    <tr>\n",
       "      <th>SN511436</th>\n",
       "      <td>[[1.9689999999973224, 1.07, 3.215], [10.089999...</td>\n",
       "      <td>[[0.01600000000325963, 51.65, 9.372], [2.0, 49...</td>\n",
       "      <td>[[0.0, 35.65, 7.882], [1.9839999999967404, 32....</td>\n",
       "      <td>[[0.9610000000029686, 54.02, 5.43], [9.9409999...</td>\n",
       "      <td>[0.0, 0.8387777777777478, 1.6775555555554955, ...</td>\n",
       "      <td>([1.9689999999973224, 2.6458080808054114, 3.32...</td>\n",
       "      <td>([0.01600000000325963, 0.8545353535386073, 1.6...</td>\n",
       "      <td>([0.0, 0.7076262626262656, 1.4152525252525312,...</td>\n",
       "      <td>([0.9610000000029686, 1.7900707070736157, 2.61...</td>\n",
       "      <td>[9.27014418909458, 8.255517290037698, 7.745205...</td>\n",
       "      <td>...</td>\n",
       "      <td>23.134718</td>\n",
       "      <td>128.783691</td>\n",
       "      <td>-8.731676</td>\n",
       "      <td>12.435225</td>\n",
       "      <td>17.675975</td>\n",
       "      <td>31.130664</td>\n",
       "      <td>Ia</td>\n",
       "      <td>True</td>\n",
       "      <td>0.58313</td>\n",
       "      <td>0.534478</td>\n",
       "    </tr>\n",
       "    <tr>\n",
       "      <th>SN511804</th>\n",
       "      <td>[[2.989000000001397, 3.118, 2.585], [13.055000...</td>\n",
       "      <td>[[0.01599999999598367, 17.51, 3.166], [3.03499...</td>\n",
       "      <td>[[0.0, 1.033, 2.13], [4.082000000002154, 5.482...</td>\n",
       "      <td>[[0.03899999999703141, 19.44, 2.511], [3.06700...</td>\n",
       "      <td>[0.0, 1.1714444444444256, 2.3428888888888513, ...</td>\n",
       "      <td>([2.989000000001397, 4.129939393940805, 5.2708...</td>\n",
       "      <td>([0.01599999999598367, 1.1872828282788337, 2.3...</td>\n",
       "      <td>([0.0, 1.1302525252524929, 2.2605050505049857,...</td>\n",
       "      <td>([0.03899999999703141, 1.208666666663758, 2.37...</td>\n",
       "      <td>[5.178899315805631, 6.259860318410908, 7.21610...</td>\n",
       "      <td>...</td>\n",
       "      <td>18.961628</td>\n",
       "      <td>22.237930</td>\n",
       "      <td>22.428448</td>\n",
       "      <td>16.678827</td>\n",
       "      <td>0.003466</td>\n",
       "      <td>13.356164</td>\n",
       "      <td>Ia</td>\n",
       "      <td>True</td>\n",
       "      <td>0.99576</td>\n",
       "      <td>0.971700</td>\n",
       "    </tr>\n",
       "    <tr>\n",
       "      <th>...</th>\n",
       "      <td>...</td>\n",
       "      <td>...</td>\n",
       "      <td>...</td>\n",
       "      <td>...</td>\n",
       "      <td>...</td>\n",
       "      <td>...</td>\n",
       "      <td>...</td>\n",
       "      <td>...</td>\n",
       "      <td>...</td>\n",
       "      <td>...</td>\n",
       "      <td>...</td>\n",
       "      <td>...</td>\n",
       "      <td>...</td>\n",
       "      <td>...</td>\n",
       "      <td>...</td>\n",
       "      <td>...</td>\n",
       "      <td>...</td>\n",
       "      <td>...</td>\n",
       "      <td>...</td>\n",
       "      <td>...</td>\n",
       "      <td>...</td>\n",
       "    </tr>\n",
       "    <tr>\n",
       "      <th>SN99438</th>\n",
       "      <td>[[0.0, 2.33, 2.55], [7.894000000000233, 3.805,...</td>\n",
       "      <td>[[0.030999999995401595, 0.006543, 3.683], [7.9...</td>\n",
       "      <td>[[0.014999999999417923, 0.4446, 1.3], [14.0039...</td>\n",
       "      <td>[[0.06199999999807915, 1.497, 4.486], [7.97199...</td>\n",
       "      <td>[0.0, 1.7255757575757058, 3.4511515151514116, ...</td>\n",
       "      <td>([0.0, 1.6948383838383538, 3.3896767676767077,...</td>\n",
       "      <td>([0.030999999995401595, 1.75597979797521, 3.48...</td>\n",
       "      <td>([0.014999999999417923, 1.7298888888882826, 3....</td>\n",
       "      <td>([0.06199999999807915, 1.7869494949475417, 3.5...</td>\n",
       "      <td>[6.789900493579756, 7.110462975693107, 7.57937...</td>\n",
       "      <td>...</td>\n",
       "      <td>-34.417710</td>\n",
       "      <td>32.878025</td>\n",
       "      <td>-33.942007</td>\n",
       "      <td>34.613412</td>\n",
       "      <td>61.324876</td>\n",
       "      <td>-51.210969</td>\n",
       "      <td>Ia</td>\n",
       "      <td>True</td>\n",
       "      <td>0.75966</td>\n",
       "      <td>0.804120</td>\n",
       "    </tr>\n",
       "    <tr>\n",
       "      <th>SN99457</th>\n",
       "      <td>[[0.0, 10.06, 4.768], [4.075000000004366, 4.39...</td>\n",
       "      <td>[[3.0429999999978463, 0.9564, 1.984], [4.10599...</td>\n",
       "      <td>[[3.004000000000815, 1.456, 1.709], [4.0900000...</td>\n",
       "      <td>[[4.137000000002445, 9.726, 4.49], [12.0469999...</td>\n",
       "      <td>[0.0, 1.7667373737373662, 3.5334747474747323, ...</td>\n",
       "      <td>([0.0, 1.7360000000000142, 3.4720000000000284,...</td>\n",
       "      <td>([3.0429999999978463, 4.778717171715048, 6.514...</td>\n",
       "      <td>([3.004000000000815, 4.729858585859406, 6.4557...</td>\n",
       "      <td>([4.137000000002445, 5.861949494951907, 7.5868...</td>\n",
       "      <td>[8.252504299669107, 11.125114322870362, 13.374...</td>\n",
       "      <td>...</td>\n",
       "      <td>9.078515</td>\n",
       "      <td>-15.904951</td>\n",
       "      <td>34.732243</td>\n",
       "      <td>-14.319036</td>\n",
       "      <td>-22.934570</td>\n",
       "      <td>-9.153751</td>\n",
       "      <td>Ia</td>\n",
       "      <td>True</td>\n",
       "      <td>0.80886</td>\n",
       "      <td>0.904851</td>\n",
       "    </tr>\n",
       "    <tr>\n",
       "      <th>SN99946</th>\n",
       "      <td>[[11.961000000002969, 1.526, 5.683], [13.05500...</td>\n",
       "      <td>[[0.01599999999598367, 4.95, 3.147], [3.034999...</td>\n",
       "      <td>[[0.0, 0.4826, 2.129], [2.995999999999185, 0.7...</td>\n",
       "      <td>[[0.03899999999703141, 1.045, 2.483], [12.0389...</td>\n",
       "      <td>[0.0, 1.3626161616161374, 2.725232323232275, 4...</td>\n",
       "      <td>([11.961000000002969, 13.202242424245336, 14.4...</td>\n",
       "      <td>([0.01599999999598367, 1.3782121212081455, 2.7...</td>\n",
       "      <td>([0.0, 1.362181818181816, 2.724363636363632, 4...</td>\n",
       "      <td>([0.03899999999703141, 1.4012222222192594, 2.7...</td>\n",
       "      <td>[3.7693816011787566, 5.06053615747151, 6.78000...</td>\n",
       "      <td>...</td>\n",
       "      <td>183.911735</td>\n",
       "      <td>62.540835</td>\n",
       "      <td>28.895779</td>\n",
       "      <td>-271.089840</td>\n",
       "      <td>54.766397</td>\n",
       "      <td>39.959973</td>\n",
       "      <td>Ia</td>\n",
       "      <td>True</td>\n",
       "      <td>0.40625</td>\n",
       "      <td>0.437865</td>\n",
       "    </tr>\n",
       "  </tbody>\n",
       "</table>\n",
       "<p>2528 rows × 34 columns</p>\n",
       "</div>"
      ],
      "text/plain": [
       "                                                       desg  \\\n",
       "ID                                                            \n",
       "SN510924  [[8.031000000002678, 5.216, 6.285], [28.879000...   \n",
       "SN511436  [[1.9689999999973224, 1.07, 3.215], [10.089999...   \n",
       "SN511804  [[2.989000000001397, 3.118, 2.585], [13.055000...   \n",
       "...                                                     ...   \n",
       "SN99438   [[0.0, 2.33, 2.55], [7.894000000000233, 3.805,...   \n",
       "SN99457   [[0.0, 10.06, 4.768], [4.075000000004366, 4.39...   \n",
       "SN99946   [[11.961000000002969, 1.526, 5.683], [13.05500...   \n",
       "\n",
       "                                                       desi  \\\n",
       "ID                                                            \n",
       "SN510924  [[13.93699999999808, 2.199, 7.08], [44.8870000...   \n",
       "SN511436  [[0.01600000000325963, 51.65, 9.372], [2.0, 49...   \n",
       "SN511804  [[0.01599999999598367, 17.51, 3.166], [3.03499...   \n",
       "...                                                     ...   \n",
       "SN99438   [[0.030999999995401595, 0.006543, 3.683], [7.9...   \n",
       "SN99457   [[3.0429999999978463, 0.9564, 1.984], [4.10599...   \n",
       "SN99946   [[0.01599999999598367, 4.95, 3.147], [3.034999...   \n",
       "\n",
       "                                                       desr  \\\n",
       "ID                                                            \n",
       "SN510924  [[0.0, 2.088, 2.24], [13.042999999997846, 1.82...   \n",
       "SN511436  [[0.0, 35.65, 7.882], [1.9839999999967404, 32....   \n",
       "SN511804  [[0.0, 1.033, 2.13], [4.082000000002154, 5.482...   \n",
       "...                                                     ...   \n",
       "SN99438   [[0.014999999999417923, 0.4446, 1.3], [14.0039...   \n",
       "SN99457   [[3.004000000000815, 1.456, 1.709], [4.0900000...   \n",
       "SN99946   [[0.0, 0.4826, 2.129], [2.995999999999185, 0.7...   \n",
       "\n",
       "                                                       desz  \\\n",
       "ID                                                            \n",
       "SN510924  [[13.953000000001339, 1.99, 5.422], [36.940999...   \n",
       "SN511436  [[0.9610000000029686, 54.02, 5.43], [9.9409999...   \n",
       "SN511804  [[0.03899999999703141, 19.44, 2.511], [3.06700...   \n",
       "...                                                     ...   \n",
       "SN99438   [[0.06199999999807915, 1.497, 4.486], [7.97199...   \n",
       "SN99457   [[4.137000000002445, 9.726, 4.49], [12.0469999...   \n",
       "SN99946   [[0.03899999999703141, 1.045, 2.483], [12.0389...   \n",
       "\n",
       "                                                      Xaxis  \\\n",
       "ID                                                            \n",
       "SN510924  [0.0, 0.7661717171717413, 1.5323434343434825, ...   \n",
       "SN511436  [0.0, 0.8387777777777478, 1.6775555555554955, ...   \n",
       "SN511804  [0.0, 1.1714444444444256, 2.3428888888888513, ...   \n",
       "...                                                     ...   \n",
       "SN99438   [0.0, 1.7255757575757058, 3.4511515151514116, ...   \n",
       "SN99457   [0.0, 1.7667373737373662, 3.5334747474747323, ...   \n",
       "SN99946   [0.0, 1.3626161616161374, 2.725232323232275, 4...   \n",
       "\n",
       "                                                    desg_GP  \\\n",
       "ID                                                            \n",
       "SN510924  ([8.031000000002678, 8.70594949495217, 9.38089...   \n",
       "SN511436  ([1.9689999999973224, 2.6458080808054114, 3.32...   \n",
       "SN511804  ([2.989000000001397, 4.129939393940805, 5.2708...   \n",
       "...                                                     ...   \n",
       "SN99438   ([0.0, 1.6948383838383538, 3.3896767676767077,...   \n",
       "SN99457   ([0.0, 1.7360000000000142, 3.4720000000000284,...   \n",
       "SN99946   ([11.961000000002969, 13.202242424245336, 14.4...   \n",
       "\n",
       "                                                    desi_GP  \\\n",
       "ID                                                            \n",
       "SN510924  ([13.93699999999808, 14.552414141412289, 15.16...   \n",
       "SN511436  ([0.01600000000325963, 0.8545353535386073, 1.6...   \n",
       "SN511804  ([0.01599999999598367, 1.1872828282788337, 2.3...   \n",
       "...                                                     ...   \n",
       "SN99438   ([0.030999999995401595, 1.75597979797521, 3.48...   \n",
       "SN99457   ([3.0429999999978463, 4.778717171715048, 6.514...   \n",
       "SN99946   ([0.01599999999598367, 1.3782121212081455, 2.7...   \n",
       "\n",
       "                                                    desr_GP  \\\n",
       "ID                                                            \n",
       "SN510924  ([0.0, 0.7561111111111435, 1.512222222222287, ...   \n",
       "SN511436  ([0.0, 0.7076262626262656, 1.4152525252525312,...   \n",
       "SN511804  ([0.0, 1.1302525252524929, 2.2605050505049857,...   \n",
       "...                                                     ...   \n",
       "SN99438   ([0.014999999999417923, 1.7298888888882826, 3....   \n",
       "SN99457   ([3.004000000000815, 4.729858585859406, 6.4557...   \n",
       "SN99946   ([0.0, 1.362181818181816, 2.724363636363632, 4...   \n",
       "\n",
       "                                                    desz_GP  \\\n",
       "ID                                                            \n",
       "SN510924  ([13.953000000001339, 14.578232323233673, 15.2...   \n",
       "SN511436  ([0.9610000000029686, 1.7900707070736157, 2.61...   \n",
       "SN511804  ([0.03899999999703141, 1.208666666663758, 2.37...   \n",
       "...                                                     ...   \n",
       "SN99438   ([0.06199999999807915, 1.7869494949475417, 3.5...   \n",
       "SN99457   ([4.137000000002445, 5.861949494951907, 7.5868...   \n",
       "SN99946   ([0.03899999999703141, 1.4012222222192594, 2.7...   \n",
       "\n",
       "                                                   wavelets  ...         f15  \\\n",
       "ID                                                           ...               \n",
       "SN510924  [10.589545779483814, 8.708973184516886, 7.2444...  ...  -39.555982   \n",
       "SN511436  [9.27014418909458, 8.255517290037698, 7.745205...  ...   23.134718   \n",
       "SN511804  [5.178899315805631, 6.259860318410908, 7.21610...  ...   18.961628   \n",
       "...                                                     ...  ...         ...   \n",
       "SN99438   [6.789900493579756, 7.110462975693107, 7.57937...  ...  -34.417710   \n",
       "SN99457   [8.252504299669107, 11.125114322870362, 13.374...  ...    9.078515   \n",
       "SN99946   [3.7693816011787566, 5.06053615747151, 6.78000...  ...  183.911735   \n",
       "\n",
       "                 f16        f17         f18        f19        f20  type  \\\n",
       "ID                                                                        \n",
       "SN510924  -16.293731  47.963569  -45.448702 -27.989244  -6.281132    Ia   \n",
       "SN511436  128.783691  -8.731676   12.435225  17.675975  31.130664    Ia   \n",
       "SN511804   22.237930  22.428448   16.678827   0.003466  13.356164    Ia   \n",
       "...              ...        ...         ...        ...        ...   ...   \n",
       "SN99438    32.878025 -33.942007   34.613412  61.324876 -51.210969    Ia   \n",
       "SN99457   -15.904951  34.732243  -14.319036 -22.934570  -9.153751    Ia   \n",
       "SN99946    62.540835  28.895779 -271.089840  54.766397  39.959973    Ia   \n",
       "\n",
       "          type_bool  REDSHIFT_SPEC     zphot  \n",
       "ID                                            \n",
       "SN510924       True        0.85640  0.836854  \n",
       "SN511436       True        0.58313  0.534478  \n",
       "SN511804       True        0.99576  0.971700  \n",
       "...             ...            ...       ...  \n",
       "SN99438        True        0.75966  0.804120  \n",
       "SN99457        True        0.80886  0.904851  \n",
       "SN99946        True        0.40625  0.437865  \n",
       "\n",
       "[2528 rows x 34 columns]"
      ]
     },
     "execution_count": 10,
     "metadata": {},
     "output_type": "execute_result"
    }
   ],
   "source": [
    "df_sigma_mad = df.iloc[-len_validation:]\n",
    "df_sigma_mad['zphot'] = preds.as_data_frame()['predict'].tolist()\n",
    "df_sigma_mad"
   ]
  },
  {
   "cell_type": "code",
   "execution_count": 23,
   "metadata": {},
   "outputs": [],
   "source": [
    "#pd.concat([X.loc[df_sigma_mad.index],df_sigma_mad['zphot']], axis = 1).to_csv('features_target.csv')\n",
    "#pd.concat([X.loc[df_sigma_mad.index],df_sigma_mad['zphot']], axis = 1).to_pickle('features_target.pkl')"
   ]
  },
  {
   "cell_type": "markdown",
   "metadata": {},
   "source": [
    "## Deltas and Sigmas calculus"
   ]
  },
  {
   "cell_type": "code",
   "execution_count": 11,
   "metadata": {},
   "outputs": [],
   "source": [
    "get_delta_z = lambda zphot, zspec : (zphot - zspec)/(1 + zspec)"
   ]
  },
  {
   "cell_type": "code",
   "execution_count": 19,
   "metadata": {},
   "outputs": [
    {
     "data": {
      "text/plain": [
       "array([-0.01052886, -0.03073146, -0.01205545, ...,  0.02526627,\n",
       "        0.05306721,  0.02248178])"
      ]
     },
     "execution_count": 19,
     "metadata": {},
     "output_type": "execute_result"
    }
   ],
   "source": [
    "delta_z = get_delta_z(df_sigma_mad.zphot.values, df_sigma_mad.REDSHIFT_SPEC.values)\n",
    "delta_z"
   ]
  },
  {
   "cell_type": "code",
   "execution_count": 20,
   "metadata": {},
   "outputs": [
    {
     "data": {
      "text/plain": [
       "0.0025125752690147193"
      ]
     },
     "execution_count": 20,
     "metadata": {},
     "output_type": "execute_result"
    }
   ],
   "source": [
    "median_delta_z = np.median(delta_z)\n",
    "median_delta_z\n",
    "#PREDICTION BIAS"
   ]
  },
  {
   "cell_type": "code",
   "execution_count": 21,
   "metadata": {},
   "outputs": [
    {
     "data": {
      "text/plain": [
       "0.023576926824614566"
      ]
     },
     "execution_count": 21,
     "metadata": {},
     "output_type": "execute_result"
    }
   ],
   "source": [
    "MAD = np.median(np.abs(delta_z - median_delta_z))\n",
    "MAD"
   ]
  },
  {
   "cell_type": "code",
   "execution_count": 22,
   "metadata": {},
   "outputs": [
    {
     "data": {
      "text/plain": [
       "0.034955151710173556"
      ]
     },
     "execution_count": 22,
     "metadata": {},
     "output_type": "execute_result"
    }
   ],
   "source": [
    "sigma_MAD = 1.4826*MAD\n",
    "sigma_MAD"
   ]
  },
  {
   "cell_type": "code",
   "execution_count": 23,
   "metadata": {},
   "outputs": [
    {
     "data": {
      "text/plain": [
       "0.18670886075949367"
      ]
     },
     "execution_count": 23,
     "metadata": {},
     "output_type": "execute_result"
    }
   ],
   "source": [
    "n_fraction = sum(np.abs(delta_z) > 0.05)/len(delta_z)\n",
    "n_fraction"
   ]
  },
  {
   "cell_type": "markdown",
   "metadata": {},
   "source": [
    "# Training with different data sizes"
   ]
  },
  {
   "cell_type": "code",
   "execution_count": 28,
   "metadata": {},
   "outputs": [],
   "source": [
    "df = pd.read_pickle(\"../../data/structured/df.pkl\")\n",
    "#IA Filter\n",
    "df = df.loc[df.type_bool == True]\n",
    "X = df.loc[:,'f1':'REDSHIFT_SPEC']\n",
    "y = df.loc[:,'REDSHIFT_SPEC']"
   ]
  },
  {
   "cell_type": "code",
   "execution_count": 29,
   "metadata": {
    "collapsed": true,
    "jupyter": {
     "outputs_hidden": true
    }
   },
   "outputs": [
    {
     "name": "stdout",
     "output_type": "stream",
     "text": [
      "Parse progress: |█████████████████████████████████████████████████████████| 100%\n",
      "AutoML progress: |███████████\n",
      "23:56:22.811: Skipping training of model GBM_5_AutoML_20210516_235611 due to exception: water.exceptions.H2OModelBuilderIllegalArgumentException: Illegal argument(s) for GBM model: GBM_5_AutoML_20210516_235611.  Details: ERRR on field: _min_rows: The dataset size is too small to split for min_rows=100.0: must have at least 200.0 (weighted) rows, but have only 50.0.\n",
      "\n",
      "\n",
      "█████████████████████████████████████████████| 100%\n",
      "                                             model_id  mean_residual_deviance  \\\n",
      "0   DeepLearning_grid__3_AutoML_20210516_235611_mo...                0.011943   \n",
      "1   DeepLearning_grid__3_AutoML_20210516_235611_mo...                0.012041   \n",
      "2   DeepLearning_grid__2_AutoML_20210516_235611_mo...                0.012524   \n",
      "..                                                ...                     ...   \n",
      "49    XGBoost_grid__1_AutoML_20210516_235611_model_14                0.048367   \n",
      "50    XGBoost_grid__1_AutoML_20210516_235611_model_17                0.049017   \n",
      "51              DeepLearning_1_AutoML_20210516_235611                0.081311   \n",
      "\n",
      "        rmse       mse       mae     rmsle  \n",
      "0   0.109285  0.011943  0.087278  0.062378  \n",
      "1   0.109732  0.012041  0.091775  0.062822  \n",
      "2   0.111912  0.012524  0.090704  0.068308  \n",
      "..       ...       ...       ...       ...  \n",
      "49  0.219925  0.048367  0.185390  0.128846  \n",
      "50  0.221397  0.049017  0.185469  0.129772  \n",
      "51  0.285151  0.081311  0.222578  0.192034  \n",
      "\n",
      "[52 rows x 6 columns]\n",
      "Parse progress: |█████████████████████████████████████████████████████████| 100%\n",
      "AutoML progress: |██████████\n",
      "00:04:27.629: Skipping training of model GBM_5_AutoML_20210517_000417 due to exception: water.exceptions.H2OModelBuilderIllegalArgumentException: Illegal argument(s) for GBM model: GBM_5_AutoML_20210517_000417.  Details: ERRR on field: _min_rows: The dataset size is too small to split for min_rows=100.0: must have at least 200.0 (weighted) rows, but have only 125.0.\n",
      "\n",
      "\n",
      "██████████████████████████████████████████████| 100%\n",
      "                                             model_id  mean_residual_deviance  \\\n",
      "0   StackedEnsemble_BestOfFamily_AutoML_20210517_0...                0.010161   \n",
      "1    StackedEnsemble_AllModels_AutoML_20210517_000417                0.011024   \n",
      "2   DeepLearning_grid__3_AutoML_20210517_000417_mo...                0.011336   \n",
      "..                                                ...                     ...   \n",
      "49  DeepLearning_grid__1_AutoML_20210517_000417_mo...                0.033719   \n",
      "50              DeepLearning_1_AutoML_20210517_000417                0.034243   \n",
      "51  DeepLearning_grid__1_AutoML_20210517_000417_mo...                0.034620   \n",
      "\n",
      "        rmse       mse       mae     rmsle  \n",
      "0   0.100801  0.010161  0.078489  0.057553  \n",
      "1   0.104995  0.011024  0.085964  0.061037  \n",
      "2   0.106469  0.011336  0.083189  0.062035  \n",
      "..       ...       ...       ...       ...  \n",
      "49  0.183627  0.033719  0.123176  0.256069  \n",
      "50  0.185049  0.034243  0.132548  0.226603  \n",
      "51  0.186064  0.034620  0.123774       NaN  \n",
      "\n",
      "[52 rows x 6 columns]\n",
      "Parse progress: |█████████████████████████████████████████████████████████| 100%\n",
      "AutoML progress: |████████████████████████████████████████████████████████| 100%\n",
      "                                             model_id  mean_residual_deviance  \\\n",
      "0   StackedEnsemble_BestOfFamily_AutoML_20210517_0...                0.009414   \n",
      "1                        GBM_4_AutoML_20210517_001426                0.010200   \n",
      "2                        GBM_2_AutoML_20210517_001426                0.010402   \n",
      "..                                                ...                     ...   \n",
      "49         GBM_grid__1_AutoML_20210517_001426_model_9                0.042975   \n",
      "50         GBM_grid__1_AutoML_20210517_001426_model_6                0.043016   \n",
      "51         GBM_grid__1_AutoML_20210517_001426_model_4                0.046258   \n",
      "\n",
      "        rmse       mse       mae     rmsle  \n",
      "0   0.097024  0.009414  0.076320  0.055954  \n",
      "1   0.100997  0.010200  0.079231  0.058744  \n",
      "2   0.101991  0.010402  0.080968  0.059320  \n",
      "..       ...       ...       ...       ...  \n",
      "49  0.207305  0.042975  0.170057  0.126161  \n",
      "50  0.207402  0.043016  0.170445  0.126302  \n",
      "51  0.215077  0.046258  0.177201  0.131059  \n",
      "\n",
      "[52 rows x 6 columns]\n",
      "Parse progress: |█████████████████████████████████████████████████████████| 100%\n",
      "AutoML progress: |████████████████████████████████████████████████████████| 100%\n",
      "                                             model_id  mean_residual_deviance  \\\n",
      "0   StackedEnsemble_BestOfFamily_AutoML_20210517_0...                0.009567   \n",
      "1    StackedEnsemble_AllModels_AutoML_20210517_002207                0.009753   \n",
      "2          GBM_grid__1_AutoML_20210517_002207_model_8                0.010185   \n",
      "..                                                ...                     ...   \n",
      "49  DeepLearning_grid__1_AutoML_20210517_002207_mo...                0.021508   \n",
      "50  DeepLearning_grid__1_AutoML_20210517_002207_mo...                0.021571   \n",
      "51                       GLM_1_AutoML_20210517_002207                0.028498   \n",
      "\n",
      "        rmse       mse       mae     rmsle  \n",
      "0   0.097812  0.009567  0.077647  0.056016  \n",
      "1   0.098757  0.009753  0.080248  0.057306  \n",
      "2   0.100921  0.010185  0.080607  0.058158  \n",
      "..       ...       ...       ...       ...  \n",
      "49  0.146655  0.021508  0.096793       NaN  \n",
      "50  0.146869  0.021571  0.097676       NaN  \n",
      "51  0.168813  0.028498  0.133791  0.132206  \n",
      "\n",
      "[52 rows x 6 columns]\n",
      "Parse progress: |█████████████████████████████████████████████████████████| 100%\n",
      "AutoML progress: |████████████████████████████████████████████████████████| 100%\n",
      "                                             model_id  mean_residual_deviance  \\\n",
      "0    StackedEnsemble_AllModels_AutoML_20210517_003448                0.008799   \n",
      "1   StackedEnsemble_BestOfFamily_AutoML_20210517_0...                0.009021   \n",
      "2                        GBM_2_AutoML_20210517_003448                0.009665   \n",
      "..                                                ...                     ...   \n",
      "49  DeepLearning_grid__1_AutoML_20210517_003448_mo...                0.042846   \n",
      "50  DeepLearning_grid__2_AutoML_20210517_003448_mo...                0.042962   \n",
      "51  DeepLearning_grid__1_AutoML_20210517_003448_mo...                0.049809   \n",
      "\n",
      "        rmse       mse       mae     rmsle  \n",
      "0   0.093803  0.008799  0.074145  0.054171  \n",
      "1   0.094981  0.009021  0.074674  0.054578  \n",
      "2   0.098311  0.009665  0.077686  0.056677  \n",
      "..       ...       ...       ...       ...  \n",
      "49  0.206993  0.042846  0.102176       NaN  \n",
      "50  0.207274  0.042962  0.098263       NaN  \n",
      "51  0.223179  0.049809  0.110044       NaN  \n",
      "\n",
      "[52 rows x 6 columns]\n",
      "Parse progress: |█████████████████████████████████████████████████████████| 100%\n",
      "AutoML progress: |████████████████████████████████████████████████████████| 100%\n",
      "                                             model_id  mean_residual_deviance  \\\n",
      "0    StackedEnsemble_AllModels_AutoML_20210517_005426                0.008536   \n",
      "1   StackedEnsemble_BestOfFamily_AutoML_20210517_0...                0.008708   \n",
      "2                        GBM_3_AutoML_20210517_005426                0.009237   \n",
      "..                                                ...                     ...   \n",
      "49  DeepLearning_grid__1_AutoML_20210517_005426_mo...                0.030603   \n",
      "50              DeepLearning_1_AutoML_20210517_005426                0.031040   \n",
      "51                       GLM_1_AutoML_20210517_005426                0.045856   \n",
      "\n",
      "        rmse       mse       mae     rmsle  \n",
      "0   0.092390  0.008536  0.072382  0.052884  \n",
      "1   0.093318  0.008708  0.073249  0.053427  \n",
      "2   0.096111  0.009237  0.075188  0.055285  \n",
      "..       ...       ...       ...       ...  \n",
      "49  0.174937  0.030603  0.104336       NaN  \n",
      "50  0.176181  0.031040  0.103455       NaN  \n",
      "51  0.214139  0.045856  0.168514  0.134992  \n",
      "\n",
      "[52 rows x 6 columns]\n",
      "Parse progress: |█████████████████████████████████████████████████████████| 100%\n",
      "AutoML progress: |████████████████████████████████████████████████████████| 100%\n",
      "                                             model_id  mean_residual_deviance  \\\n",
      "0    StackedEnsemble_AllModels_AutoML_20210517_010522                0.008212   \n",
      "1   StackedEnsemble_BestOfFamily_AutoML_20210517_0...                0.008384   \n",
      "2                        GBM_3_AutoML_20210517_010522                0.008844   \n",
      "..                                                ...                     ...   \n",
      "49                       GLM_1_AutoML_20210517_010522                0.045289   \n",
      "50  DeepLearning_grid__1_AutoML_20210517_010522_mo...                0.049343   \n",
      "51  DeepLearning_grid__1_AutoML_20210517_010522_mo...                0.052709   \n",
      "\n",
      "        rmse       mse       mae     rmsle  \n",
      "0   0.090620  0.008212  0.070468  0.052142  \n",
      "1   0.091564  0.008384  0.071562  0.052773  \n",
      "2   0.094041  0.008844  0.073132  0.054144  \n",
      "..       ...       ...       ...       ...  \n",
      "49  0.212812  0.045289  0.167395       NaN  \n",
      "50  0.222133  0.049343  0.107986       NaN  \n",
      "51  0.229583  0.052709  0.117399       NaN  \n",
      "\n",
      "[52 rows x 6 columns]\n"
     ]
    }
   ],
   "source": [
    "divisions = [50,125,250,500,1000,1500,2000]\n",
    "amls = {}\n",
    "for i in divisions:\n",
    "    aml = H2OAutoML(max_models=50, seed=1)\n",
    "    aml.train(x=list(df.loc[:,'f1':'f20'].columns), y='REDSHIFT_SPEC', training_frame=h2o.H2OFrame(X.iloc[0:i]))\n",
    "    print(aml.leaderboard.as_data_frame(use_pandas=True))\n",
    "    amls[f'size_{i}'] = aml"
   ]
  },
  {
   "cell_type": "code",
   "execution_count": 47,
   "metadata": {},
   "outputs": [
    {
     "data": {
      "text/plain": [
       "{'size_50': <h2o.automl.autoh2o.H2OAutoML at 0x7f6c30cdbaf0>,\n",
       " 'size_125': <h2o.automl.autoh2o.H2OAutoML at 0x7f6c306ce1f0>,\n",
       " 'size_250': <h2o.automl.autoh2o.H2OAutoML at 0x7f6c37090a90>,\n",
       " 'size_500': <h2o.automl.autoh2o.H2OAutoML at 0x7f6c5a052520>,\n",
       " 'size_1000': <h2o.automl.autoh2o.H2OAutoML at 0x7f6bfcb7b760>,\n",
       " 'size_1500': <h2o.automl.autoh2o.H2OAutoML at 0x7f6bfcb7bb50>,\n",
       " 'size_2000': <h2o.automl.autoh2o.H2OAutoML at 0x7f6c59e7dca0>}"
      ]
     },
     "execution_count": 47,
     "metadata": {},
     "output_type": "execute_result"
    }
   ],
   "source": [
    "amls"
   ]
  },
  {
   "cell_type": "code",
   "execution_count": 54,
   "metadata": {},
   "outputs": [
    {
     "name": "stdout",
     "output_type": "stream",
     "text": [
      "Parse progress: |█████████████████████████████████████████████████████████| 100%\n",
      "Parse progress: |█████████████████████████████████████████████████████████| 100%\n",
      "deeplearning prediction progress: |███████████████████████████████████████| 100%\n",
      "\n",
      " 26 train/test objects  \n",
      " and 24 validation objects\n",
      "Parse progress: |█████████████████████████████████████████████████████████| 100%\n",
      "Parse progress: |█████████████████████████████████████████████████████████| 100%\n",
      "stackedensemble prediction progress: |████████████████████████████████████| 100%\n",
      "\n",
      " 64 train/test objects  \n",
      " and 61 validation objects\n",
      "Parse progress: |█████████████████████████████████████████████████████████| 100%\n",
      "Parse progress: |█████████████████████████████████████████████████████████| 100%\n",
      "stackedensemble prediction progress: |████████████████████████████████████| 100%\n",
      "\n",
      " 126 train/test objects  \n",
      " and 124 validation objects\n",
      "Parse progress: |█████████████████████████████████████████████████████████| 100%\n",
      "Parse progress: |█████████████████████████████████████████████████████████| 100%\n",
      "stackedensemble prediction progress: |████████████████████████████████████| 100%\n",
      "\n",
      " 250 train/test objects  \n",
      " and 250 validation objects\n",
      "Parse progress: |█████████████████████████████████████████████████████████| 100%\n",
      "Parse progress: |█████████████████████████████████████████████████████████| 100%\n",
      "stackedensemble prediction progress: |████████████████████████████████████| 100%\n",
      "\n",
      " 502 train/test objects  \n",
      " and 498 validation objects\n",
      "Parse progress: |█████████████████████████████████████████████████████████| 100%\n",
      "Parse progress: |█████████████████████████████████████████████████████████| 100%\n",
      "stackedensemble prediction progress: |████████████████████████████████████| 100%\n",
      "\n",
      " 754 train/test objects  \n",
      " and 746 validation objects\n",
      "Parse progress: |█████████████████████████████████████████████████████████| 100%\n",
      "Parse progress: |█████████████████████████████████████████████████████████| 100%\n",
      "stackedensemble prediction progress: |████████████████████████████████████| 100%\n",
      "\n",
      " 1011 train/test objects  \n",
      " and 989 validation objects\n"
     ]
    }
   ],
   "source": [
    "ans = get_metrics_from_batchs(amls, df)"
   ]
  },
  {
   "cell_type": "code",
   "execution_count": 55,
   "metadata": {},
   "outputs": [
    {
     "data": {
      "text/plain": [
       "{'prediction_bias_size_50': -0.005236580635540106,\n",
       " 'sigma_MAD_size_50': 0.08901218232558232,\n",
       " 'n_fraction_size_50': 0.625,\n",
       " 'prediction_bias_size_125': -0.00378577264047565,\n",
       " 'sigma_MAD_size_125': 0.049329483194398054,\n",
       " 'n_fraction_size_125': 0.36065573770491804,\n",
       " 'prediction_bias_size_250': 0.01279412906296811,\n",
       " 'sigma_MAD_size_250': 0.057169953608790264,\n",
       " 'n_fraction_size_250': 0.3790322580645161,\n",
       " 'prediction_bias_size_500': -0.0035371902158880027,\n",
       " 'sigma_MAD_size_500': 0.05767373767046159,\n",
       " 'n_fraction_size_500': 0.42,\n",
       " 'prediction_bias_size_1000': 0.004510444977170083,\n",
       " 'sigma_MAD_size_1000': 0.05116786797439472,\n",
       " 'n_fraction_size_1000': 0.3373493975903614,\n",
       " 'prediction_bias_size_1500': 0.0003696308490348474,\n",
       " 'sigma_MAD_size_1500': 0.0471148162178208,\n",
       " 'n_fraction_size_1500': 0.2868632707774799,\n",
       " 'prediction_bias_size_2000': 5.539747773482143e-06,\n",
       " 'sigma_MAD_size_2000': 0.043848679479044694,\n",
       " 'n_fraction_size_2000': 0.29221435793731043}"
      ]
     },
     "execution_count": 55,
     "metadata": {},
     "output_type": "execute_result"
    }
   ],
   "source": [
    "ans"
   ]
  },
  {
   "cell_type": "code",
   "execution_count": 59,
   "metadata": {},
   "outputs": [
    {
     "name": "stdout",
     "output_type": "stream",
     "text": [
      "Parse progress: |█████████████████████████████████████████████████████████| 100%\n",
      "deeplearning prediction progress: |███████████████████████████████████████| 100%\n",
      "\n",
      " 50 train/test objects  \n",
      " and 5028 validation objects\n"
     ]
    },
    {
     "name": "stderr",
     "output_type": "stream",
     "text": [
      "/home/felipe/Documents/Pessoal/projects/redshift_prediction/src/modeling/evaluation.py:55: SettingWithCopyWarning: \n",
      "A value is trying to be set on a copy of a slice from a DataFrame.\n",
      "Try using .loc[row_indexer,col_indexer] = value instead\n",
      "\n",
      "See the caveats in the documentation: https://pandas.pydata.org/pandas-docs/stable/user_guide/indexing.html#returning-a-view-versus-a-copy\n"
     ]
    },
    {
     "name": "stdout",
     "output_type": "stream",
     "text": [
      "Parse progress: |█████████████████████████████████████████████████████████| 100%\n",
      "stackedensemble prediction progress: |████████████████████████████████████| 100%\n",
      "\n",
      " 125 train/test objects  \n",
      " and 4953 validation objects\n",
      "Parse progress: |█████████████████████████████████████████████████████████| 100%\n",
      "stackedensemble prediction progress: |████████████████████████████████████| 100%\n",
      "\n",
      " 250 train/test objects  \n",
      " and 4828 validation objects\n",
      "Parse progress: |█████████████████████████████████████████████████████████| 100%\n",
      "stackedensemble prediction progress: |████████████████████████████████████| 100%\n",
      "\n",
      " 500 train/test objects  \n",
      " and 4578 validation objects\n",
      "Parse progress: |█████████████████████████████████████████████████████████| 100%\n",
      "stackedensemble prediction progress: |████████████████████████████████████| 100%\n",
      "\n",
      " 1000 train/test objects  \n",
      " and 4078 validation objects\n",
      "Parse progress: |█████████████████████████████████████████████████████████| 100%\n",
      "stackedensemble prediction progress: |████████████████████████████████████| 100%\n",
      "\n",
      " 1500 train/test objects  \n",
      " and 3578 validation objects\n",
      "Parse progress: |█████████████████████████████████████████████████████████| 100%\n",
      "stackedensemble prediction progress: |████████████████████████████████████| 100%\n",
      "\n",
      " 2000 train/test objects  \n",
      " and 3078 validation objects\n"
     ]
    },
    {
     "data": {
      "text/plain": [
       "{'prediction_bias_size_50': -0.003822031978589867,\n",
       " 'sigma_MAD_size_50': 0.07084421233167937,\n",
       " 'n_fraction_size_50': 0.4850835322195704,\n",
       " 'prediction_bias_size_125': -0.009024738337882322,\n",
       " 'sigma_MAD_size_125': 0.05987677653414336,\n",
       " 'n_fraction_size_125': 0.4167171411265899,\n",
       " 'prediction_bias_size_250': -0.0005154952119109519,\n",
       " 'sigma_MAD_size_250': 0.0574361724519284,\n",
       " 'n_fraction_size_250': 0.3867025683512842,\n",
       " 'prediction_bias_size_500': -0.006887987909169122,\n",
       " 'sigma_MAD_size_500': 0.06114985361263437,\n",
       " 'n_fraction_size_500': 0.4119702927042377,\n",
       " 'prediction_bias_size_1000': 0.0019815051499890582,\n",
       " 'sigma_MAD_size_1000': 0.04930865041962898,\n",
       " 'n_fraction_size_1000': 0.3182932810201079,\n",
       " 'prediction_bias_size_1500': -0.0022613612607101253,\n",
       " 'sigma_MAD_size_1500': 0.04641588172699169,\n",
       " 'n_fraction_size_1500': 0.2948574622694243,\n",
       " 'prediction_bias_size_2000': -0.002692721931617943,\n",
       " 'sigma_MAD_size_2000': 0.04441663812507062,\n",
       " 'n_fraction_size_2000': 0.2777777777777778}"
      ]
     },
     "execution_count": 59,
     "metadata": {},
     "output_type": "execute_result"
    }
   ],
   "source": [
    "get_metrics_from_batchs(amls, df)"
   ]
  },
  {
   "cell_type": "code",
   "execution_count": null,
   "metadata": {},
   "outputs": [],
   "source": []
  }
 ],
 "metadata": {
  "kernelspec": {
   "display_name": "Python 3 (ipykernel)",
   "language": "python",
   "name": "python3"
  },
  "language_info": {
   "codemirror_mode": {
    "name": "ipython",
    "version": 3
   },
   "file_extension": ".py",
   "mimetype": "text/x-python",
   "name": "python",
   "nbconvert_exporter": "python",
   "pygments_lexer": "ipython3",
   "version": "3.8.10"
  }
 },
 "nbformat": 4,
 "nbformat_minor": 4
}
